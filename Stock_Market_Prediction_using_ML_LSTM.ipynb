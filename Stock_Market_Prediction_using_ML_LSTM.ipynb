{
  "cells": [
    {
      "cell_type": "markdown",
      "metadata": {
        "id": "view-in-github",
        "colab_type": "text"
      },
      "source": [
        "<a href=\"https://colab.research.google.com/github/pradippatel00754/MLProjects/blob/main/Stock_Market_Prediction_using_ML_LSTM.ipynb\" target=\"_parent\"><img src=\"https://colab.research.google.com/assets/colab-badge.svg\" alt=\"Open In Colab\"/></a>"
      ]
    },
    {
      "cell_type": "code",
      "execution_count": 41,
      "metadata": {
        "id": "2I6dWoFcXvCx"
      },
      "outputs": [],
      "source": [
        "import pandas as pd\n",
        "import numpy as np \n",
        "import matplotlib.pyplot as plt\n",
        "from sklearn.preprocessing import MinMaxScaler\n",
        "from keras.models import Sequential\n",
        "from keras.layers import Dense, LSTM,Dropout"
      ]
    },
    {
      "cell_type": "code",
      "source": [
        "data = pd.read_csv('Google_train_data.csv')\n",
        "data.head()"
      ],
      "metadata": {
        "colab": {
          "base_uri": "https://localhost:8080/",
          "height": 206
        },
        "id": "XQi5Fy8bY9-W",
        "outputId": "16a808e3-1e0b-460b-a5ba-90510962c4ab"
      },
      "execution_count": 42,
      "outputs": [
        {
          "output_type": "execute_result",
          "data": {
            "text/plain": [
              "       Date    Open    High     Low   Close      Volume\n",
              "0  1/3/2012  325.25  332.83  324.97  663.59   7,380,500\n",
              "1  1/4/2012  331.27  333.87  329.08  666.45   5,749,400\n",
              "2  1/5/2012  329.83  330.75  326.89  657.21   6,590,300\n",
              "3  1/6/2012  328.34  328.77  323.68  648.24   5,405,900\n",
              "4  1/9/2012  322.04  322.29  309.46  620.76  11,688,800"
            ],
            "text/html": [
              "\n",
              "  <div id=\"df-b9e3fe23-cc6a-4e2f-912c-b49d5692081b\">\n",
              "    <div class=\"colab-df-container\">\n",
              "      <div>\n",
              "<style scoped>\n",
              "    .dataframe tbody tr th:only-of-type {\n",
              "        vertical-align: middle;\n",
              "    }\n",
              "\n",
              "    .dataframe tbody tr th {\n",
              "        vertical-align: top;\n",
              "    }\n",
              "\n",
              "    .dataframe thead th {\n",
              "        text-align: right;\n",
              "    }\n",
              "</style>\n",
              "<table border=\"1\" class=\"dataframe\">\n",
              "  <thead>\n",
              "    <tr style=\"text-align: right;\">\n",
              "      <th></th>\n",
              "      <th>Date</th>\n",
              "      <th>Open</th>\n",
              "      <th>High</th>\n",
              "      <th>Low</th>\n",
              "      <th>Close</th>\n",
              "      <th>Volume</th>\n",
              "    </tr>\n",
              "  </thead>\n",
              "  <tbody>\n",
              "    <tr>\n",
              "      <th>0</th>\n",
              "      <td>1/3/2012</td>\n",
              "      <td>325.25</td>\n",
              "      <td>332.83</td>\n",
              "      <td>324.97</td>\n",
              "      <td>663.59</td>\n",
              "      <td>7,380,500</td>\n",
              "    </tr>\n",
              "    <tr>\n",
              "      <th>1</th>\n",
              "      <td>1/4/2012</td>\n",
              "      <td>331.27</td>\n",
              "      <td>333.87</td>\n",
              "      <td>329.08</td>\n",
              "      <td>666.45</td>\n",
              "      <td>5,749,400</td>\n",
              "    </tr>\n",
              "    <tr>\n",
              "      <th>2</th>\n",
              "      <td>1/5/2012</td>\n",
              "      <td>329.83</td>\n",
              "      <td>330.75</td>\n",
              "      <td>326.89</td>\n",
              "      <td>657.21</td>\n",
              "      <td>6,590,300</td>\n",
              "    </tr>\n",
              "    <tr>\n",
              "      <th>3</th>\n",
              "      <td>1/6/2012</td>\n",
              "      <td>328.34</td>\n",
              "      <td>328.77</td>\n",
              "      <td>323.68</td>\n",
              "      <td>648.24</td>\n",
              "      <td>5,405,900</td>\n",
              "    </tr>\n",
              "    <tr>\n",
              "      <th>4</th>\n",
              "      <td>1/9/2012</td>\n",
              "      <td>322.04</td>\n",
              "      <td>322.29</td>\n",
              "      <td>309.46</td>\n",
              "      <td>620.76</td>\n",
              "      <td>11,688,800</td>\n",
              "    </tr>\n",
              "  </tbody>\n",
              "</table>\n",
              "</div>\n",
              "      <button class=\"colab-df-convert\" onclick=\"convertToInteractive('df-b9e3fe23-cc6a-4e2f-912c-b49d5692081b')\"\n",
              "              title=\"Convert this dataframe to an interactive table.\"\n",
              "              style=\"display:none;\">\n",
              "        \n",
              "  <svg xmlns=\"http://www.w3.org/2000/svg\" height=\"24px\"viewBox=\"0 0 24 24\"\n",
              "       width=\"24px\">\n",
              "    <path d=\"M0 0h24v24H0V0z\" fill=\"none\"/>\n",
              "    <path d=\"M18.56 5.44l.94 2.06.94-2.06 2.06-.94-2.06-.94-.94-2.06-.94 2.06-2.06.94zm-11 1L8.5 8.5l.94-2.06 2.06-.94-2.06-.94L8.5 2.5l-.94 2.06-2.06.94zm10 10l.94 2.06.94-2.06 2.06-.94-2.06-.94-.94-2.06-.94 2.06-2.06.94z\"/><path d=\"M17.41 7.96l-1.37-1.37c-.4-.4-.92-.59-1.43-.59-.52 0-1.04.2-1.43.59L10.3 9.45l-7.72 7.72c-.78.78-.78 2.05 0 2.83L4 21.41c.39.39.9.59 1.41.59.51 0 1.02-.2 1.41-.59l7.78-7.78 2.81-2.81c.8-.78.8-2.07 0-2.86zM5.41 20L4 18.59l7.72-7.72 1.47 1.35L5.41 20z\"/>\n",
              "  </svg>\n",
              "      </button>\n",
              "      \n",
              "  <style>\n",
              "    .colab-df-container {\n",
              "      display:flex;\n",
              "      flex-wrap:wrap;\n",
              "      gap: 12px;\n",
              "    }\n",
              "\n",
              "    .colab-df-convert {\n",
              "      background-color: #E8F0FE;\n",
              "      border: none;\n",
              "      border-radius: 50%;\n",
              "      cursor: pointer;\n",
              "      display: none;\n",
              "      fill: #1967D2;\n",
              "      height: 32px;\n",
              "      padding: 0 0 0 0;\n",
              "      width: 32px;\n",
              "    }\n",
              "\n",
              "    .colab-df-convert:hover {\n",
              "      background-color: #E2EBFA;\n",
              "      box-shadow: 0px 1px 2px rgba(60, 64, 67, 0.3), 0px 1px 3px 1px rgba(60, 64, 67, 0.15);\n",
              "      fill: #174EA6;\n",
              "    }\n",
              "\n",
              "    [theme=dark] .colab-df-convert {\n",
              "      background-color: #3B4455;\n",
              "      fill: #D2E3FC;\n",
              "    }\n",
              "\n",
              "    [theme=dark] .colab-df-convert:hover {\n",
              "      background-color: #434B5C;\n",
              "      box-shadow: 0px 1px 3px 1px rgba(0, 0, 0, 0.15);\n",
              "      filter: drop-shadow(0px 1px 2px rgba(0, 0, 0, 0.3));\n",
              "      fill: #FFFFFF;\n",
              "    }\n",
              "  </style>\n",
              "\n",
              "      <script>\n",
              "        const buttonEl =\n",
              "          document.querySelector('#df-b9e3fe23-cc6a-4e2f-912c-b49d5692081b button.colab-df-convert');\n",
              "        buttonEl.style.display =\n",
              "          google.colab.kernel.accessAllowed ? 'block' : 'none';\n",
              "\n",
              "        async function convertToInteractive(key) {\n",
              "          const element = document.querySelector('#df-b9e3fe23-cc6a-4e2f-912c-b49d5692081b');\n",
              "          const dataTable =\n",
              "            await google.colab.kernel.invokeFunction('convertToInteractive',\n",
              "                                                     [key], {});\n",
              "          if (!dataTable) return;\n",
              "\n",
              "          const docLinkHtml = 'Like what you see? Visit the ' +\n",
              "            '<a target=\"_blank\" href=https://colab.research.google.com/notebooks/data_table.ipynb>data table notebook</a>'\n",
              "            + ' to learn more about interactive tables.';\n",
              "          element.innerHTML = '';\n",
              "          dataTable['output_type'] = 'display_data';\n",
              "          await google.colab.output.renderOutput(dataTable, element);\n",
              "          const docLink = document.createElement('div');\n",
              "          docLink.innerHTML = docLinkHtml;\n",
              "          element.appendChild(docLink);\n",
              "        }\n",
              "      </script>\n",
              "    </div>\n",
              "  </div>\n",
              "  "
            ]
          },
          "metadata": {},
          "execution_count": 42
        }
      ]
    },
    {
      "cell_type": "code",
      "source": [
        "data.info()"
      ],
      "metadata": {
        "colab": {
          "base_uri": "https://localhost:8080/"
        },
        "id": "EtFXqZ0hZMRa",
        "outputId": "7713b462-43c9-45fd-a779-014c621bdff6"
      },
      "execution_count": 43,
      "outputs": [
        {
          "output_type": "stream",
          "name": "stdout",
          "text": [
            "<class 'pandas.core.frame.DataFrame'>\n",
            "RangeIndex: 1258 entries, 0 to 1257\n",
            "Data columns (total 6 columns):\n",
            " #   Column  Non-Null Count  Dtype  \n",
            "---  ------  --------------  -----  \n",
            " 0   Date    1258 non-null   object \n",
            " 1   Open    1258 non-null   float64\n",
            " 2   High    1258 non-null   float64\n",
            " 3   Low     1258 non-null   float64\n",
            " 4   Close   1258 non-null   object \n",
            " 5   Volume  1258 non-null   object \n",
            "dtypes: float64(3), object(3)\n",
            "memory usage: 59.1+ KB\n"
          ]
        }
      ]
    },
    {
      "cell_type": "code",
      "source": [
        "data['Close'] = pd.to_numeric(data.Close, errors = 'coerce')\n",
        "data= data.dropna()\n",
        "trainData = data.iloc[:,4:5].values"
      ],
      "metadata": {
        "id": "d5mzY8eJZWMT"
      },
      "execution_count": 44,
      "outputs": []
    },
    {
      "cell_type": "code",
      "source": [
        "data.info()"
      ],
      "metadata": {
        "colab": {
          "base_uri": "https://localhost:8080/"
        },
        "id": "WEnK_Rghbgvl",
        "outputId": "24da003d-f6bd-40ce-d33c-9c2b99d58b3c"
      },
      "execution_count": 45,
      "outputs": [
        {
          "output_type": "stream",
          "name": "stdout",
          "text": [
            "<class 'pandas.core.frame.DataFrame'>\n",
            "Int64Index: 1149 entries, 0 to 1257\n",
            "Data columns (total 6 columns):\n",
            " #   Column  Non-Null Count  Dtype  \n",
            "---  ------  --------------  -----  \n",
            " 0   Date    1149 non-null   object \n",
            " 1   Open    1149 non-null   float64\n",
            " 2   High    1149 non-null   float64\n",
            " 3   Low     1149 non-null   float64\n",
            " 4   Close   1149 non-null   float64\n",
            " 5   Volume  1149 non-null   object \n",
            "dtypes: float64(4), object(2)\n",
            "memory usage: 62.8+ KB\n"
          ]
        }
      ]
    },
    {
      "cell_type": "code",
      "source": [
        "sc = MinMaxScaler(feature_range=(0,1))\n",
        "trainData = sc.fit_transform(trainData)\n",
        "trainData.shape"
      ],
      "metadata": {
        "colab": {
          "base_uri": "https://localhost:8080/"
        },
        "id": "Ut0LpobZbyXK",
        "outputId": "245cc2d0-ee27-4e1c-d653-818e701f3797"
      },
      "execution_count": 46,
      "outputs": [
        {
          "output_type": "execute_result",
          "data": {
            "text/plain": [
              "(1149, 1)"
            ]
          },
          "metadata": {},
          "execution_count": 46
        }
      ]
    },
    {
      "cell_type": "code",
      "source": [
        "from tensorflow.python import train\n",
        "X_train = []\n",
        "Y_train = []\n",
        "\n",
        "for i in range(60,1149): #60: timestep // 1149 : Length of the data\n",
        "    X_train.append(trainData[i-60:i,0])\n",
        "    Y_train.append(trainData[i,0])\n",
        "\n",
        "X_train, Y_train = np.array(X_train),np.array(Y_train)"
      ],
      "metadata": {
        "id": "awWf2qxFcId5"
      },
      "execution_count": 47,
      "outputs": []
    },
    {
      "cell_type": "code",
      "source": [
        "X_train = np.reshape(X_train,(X_train.shape[0],X_train.shape[1],1)) #adding the batch_size axis\n",
        "X_train.shape"
      ],
      "metadata": {
        "colab": {
          "base_uri": "https://localhost:8080/"
        },
        "id": "BRqENZj7dCd2",
        "outputId": "2b3e0e64-73d6-4518-e4ab-cba8783aafbf"
      },
      "execution_count": 48,
      "outputs": [
        {
          "output_type": "execute_result",
          "data": {
            "text/plain": [
              "(1089, 60, 1)"
            ]
          },
          "metadata": {},
          "execution_count": 48
        }
      ]
    },
    {
      "cell_type": "code",
      "source": [
        "model = Sequential()\n",
        "\n",
        "model.add(LSTM(units=100, return_sequences= True, input_shape = (X_train.shape[1],1)))\n",
        "model.add(Dropout(0.2))\n",
        "\n",
        "model.add(LSTM(units=100, return_sequences= True))\n",
        "model.add(Dropout(0.2))\n",
        "\n",
        "model.add(LSTM(units=100, return_sequences= True))\n",
        "model.add(Dropout(0.2))\n",
        "\n",
        "model.add(LSTM(units=100, return_sequences= False))\n",
        "model.add(Dropout(0.2))\n",
        "\n",
        "model.add(Dense(units = 1))\n",
        "model.compile(optimizer='adam',loss='mean_squared_error')"
      ],
      "metadata": {
        "id": "MKx6XejcdndA"
      },
      "execution_count": 49,
      "outputs": []
    },
    {
      "cell_type": "code",
      "source": [
        "hist = model.fit(X_train, Y_train, epochs=20,batch_size=32,verbose=2)"
      ],
      "metadata": {
        "colab": {
          "base_uri": "https://localhost:8080/"
        },
        "id": "svaKs0UogX3c",
        "outputId": "33b05a46-ee64-4825-ad7a-b801503077b5"
      },
      "execution_count": 50,
      "outputs": [
        {
          "output_type": "stream",
          "name": "stdout",
          "text": [
            "Epoch 1/20\n",
            "35/35 - 45s - loss: 0.0346 - 45s/epoch - 1s/step\n",
            "Epoch 2/20\n",
            "35/35 - 7s - loss: 0.0121 - 7s/epoch - 214ms/step\n",
            "Epoch 3/20\n",
            "35/35 - 8s - loss: 0.0079 - 8s/epoch - 215ms/step\n",
            "Epoch 4/20\n",
            "35/35 - 8s - loss: 0.0074 - 8s/epoch - 215ms/step\n",
            "Epoch 5/20\n",
            "35/35 - 8s - loss: 0.0075 - 8s/epoch - 217ms/step\n",
            "Epoch 6/20\n",
            "35/35 - 8s - loss: 0.0070 - 8s/epoch - 215ms/step\n",
            "Epoch 7/20\n",
            "35/35 - 8s - loss: 0.0069 - 8s/epoch - 218ms/step\n",
            "Epoch 8/20\n",
            "35/35 - 7s - loss: 0.0078 - 7s/epoch - 214ms/step\n",
            "Epoch 9/20\n",
            "35/35 - 8s - loss: 0.0079 - 8s/epoch - 216ms/step\n",
            "Epoch 10/20\n",
            "35/35 - 8s - loss: 0.0061 - 8s/epoch - 215ms/step\n",
            "Epoch 11/20\n",
            "35/35 - 8s - loss: 0.0095 - 8s/epoch - 217ms/step\n",
            "Epoch 12/20\n",
            "35/35 - 7s - loss: 0.0062 - 7s/epoch - 212ms/step\n",
            "Epoch 13/20\n",
            "35/35 - 8s - loss: 0.0056 - 8s/epoch - 217ms/step\n",
            "Epoch 14/20\n",
            "35/35 - 8s - loss: 0.0050 - 8s/epoch - 216ms/step\n",
            "Epoch 15/20\n",
            "35/35 - 8s - loss: 0.0052 - 8s/epoch - 215ms/step\n",
            "Epoch 16/20\n",
            "35/35 - 8s - loss: 0.0051 - 8s/epoch - 219ms/step\n",
            "Epoch 17/20\n",
            "35/35 - 8s - loss: 0.0052 - 8s/epoch - 232ms/step\n",
            "Epoch 18/20\n",
            "35/35 - 8s - loss: 0.0049 - 8s/epoch - 223ms/step\n",
            "Epoch 19/20\n",
            "35/35 - 8s - loss: 0.0063 - 8s/epoch - 242ms/step\n",
            "Epoch 20/20\n",
            "35/35 - 8s - loss: 0.0048 - 8s/epoch - 221ms/step\n"
          ]
        }
      ]
    },
    {
      "cell_type": "code",
      "source": [
        "plt.plot(hist.history['loss'])\n",
        "plt.title(\"Training model loss\")\n",
        "plt.ylabel('loss')\n",
        "plt.xlabel('epoch')\n",
        "plt.legend(['train'], loc='upper left')\n",
        "plt.show()"
      ],
      "metadata": {
        "colab": {
          "base_uri": "https://localhost:8080/",
          "height": 295
        },
        "id": "smXB3rlgglok",
        "outputId": "62a87602-9629-4db0-bd66-05848cb021f2"
      },
      "execution_count": 51,
      "outputs": [
        {
          "output_type": "display_data",
          "data": {
            "text/plain": [
              "<Figure size 432x288 with 1 Axes>"
            ],
            "image/png": "[encoded data removed]"
          },
          "metadata": {
            "needs_background": "light"
          }
        }
      ]
    },
    {
      "cell_type": "code",
      "source": [
        "testData = pd.read_csv('Google_test_data.csv')\n",
        "testData['Close'] = pd.to_numeric(testData.Close,errors='coerce')\n",
        "testData = testData.dropna()\n",
        "testData = testData.iloc[:,4:5]\n",
        "Y_test = testData.iloc[60:,0:].values\n",
        "\n",
        "#input array for the model\n",
        "inputClosing = testData.iloc[:,0:].values\n",
        "inputClosing_scaled = sc.transform(inputClosing)\n",
        "inputClosing_scaled.shape\n",
        "X_test = []\n",
        "length = len(testData)\n",
        "timestep = 60\n",
        "for i in range(timestep,length):\n",
        "  X_test.append(inputClosing_scaled[i-timestep:i,0])\n",
        "\n",
        "X_test = np.array(X_test)\n",
        "X_test = np.reshape(X_test,(X_test.shape[0],X_test.shape[1],1))\n",
        "X_test.shape"
      ],
      "metadata": {
        "colab": {
          "base_uri": "https://localhost:8080/"
        },
        "id": "6vpcWITPhYUG",
        "outputId": "069ab48b-0546-4cdc-820f-1e8fa3e14ea7"
      },
      "execution_count": 52,
      "outputs": [
        {
          "output_type": "execute_result",
          "data": {
            "text/plain": [
              "(192, 60, 1)"
            ]
          },
          "metadata": {},
          "execution_count": 52
        }
      ]
    },
    {
      "cell_type": "code",
      "source": [
        "Y_pred = model.predict(X_test)\n",
        "Y_pred"
      ],
      "metadata": {
        "colab": {
          "base_uri": "https://localhost:8080/"
        },
        "id": "s8TjJ4GFmeXB",
        "outputId": "6ecfabb1-6738-4c3c-f0da-d220f59a102f"
      },
      "execution_count": 54,
      "outputs": [
        {
          "output_type": "stream",
          "name": "stdout",
          "text": [
            "6/6 [==============================] - 0s 73ms/step\n"
          ]
        },
        {
          "output_type": "execute_result",
          "data": {
            "text/plain": [
              "array([[1.1578397],\n",
              "       [1.159739 ],\n",
              "       [1.170208 ],\n",
              "       [1.1857094],\n",
              "       [1.1970248],\n",
              "       [1.1944364],\n",
              "       [1.1797466],\n",
              "       [1.1616936],\n",
              "       [1.151491 ],\n",
              "       [1.1502929],\n",
              "       [1.145221 ],\n",
              "       [1.1354771],\n",
              "       [1.1268687],\n",
              "       [1.1189585],\n",
              "       [1.1181916],\n",
              "       [1.123445 ],\n",
              "       [1.1415026],\n",
              "       [1.1684717],\n",
              "       [1.1977158],\n",
              "       [1.2252617],\n",
              "       [1.2330189],\n",
              "       [1.2258902],\n",
              "       [1.2038664],\n",
              "       [1.1756594],\n",
              "       [1.1524585],\n",
              "       [1.1416342],\n",
              "       [1.142019 ],\n",
              "       [1.1444339],\n",
              "       [1.1389296],\n",
              "       [1.1291394],\n",
              "       [1.1181018],\n",
              "       [1.1055735],\n",
              "       [1.0866324],\n",
              "       [1.0635319],\n",
              "       [1.0559053],\n",
              "       [1.0675873],\n",
              "       [1.0901427],\n",
              "       [1.1136596],\n",
              "       [1.1341784],\n",
              "       [1.1421689],\n",
              "       [1.1508368],\n",
              "       [1.1627606],\n",
              "       [1.1775168],\n",
              "       [1.1912277],\n",
              "       [1.1998734],\n",
              "       [1.1994728],\n",
              "       [1.1889   ],\n",
              "       [1.180591 ],\n",
              "       [1.1795381],\n",
              "       [1.186749 ],\n",
              "       [1.2004704],\n",
              "       [1.2090474],\n",
              "       [1.2108065],\n",
              "       [1.207263 ],\n",
              "       [1.2055371],\n",
              "       [1.2021646],\n",
              "       [1.194598 ],\n",
              "       [1.1915506],\n",
              "       [1.2013586],\n",
              "       [1.2192374],\n",
              "       [1.2436111],\n",
              "       [1.2715508],\n",
              "       [1.2890202],\n",
              "       [1.288953 ],\n",
              "       [1.2749549],\n",
              "       [1.2550814],\n",
              "       [1.2429845],\n",
              "       [1.2409421],\n",
              "       [1.2463548],\n",
              "       [1.2528394],\n",
              "       [1.258555 ],\n",
              "       [1.26144  ],\n",
              "       [1.2573767],\n",
              "       [1.2517643],\n",
              "       [1.2473714],\n",
              "       [1.2465843],\n",
              "       [1.2490797],\n",
              "       [1.2541679],\n",
              "       [1.2653599],\n",
              "       [1.2816278],\n",
              "       [1.3020073],\n",
              "       [1.3205125],\n",
              "       [1.3294685],\n",
              "       [1.3286374],\n",
              "       [1.330388 ],\n",
              "       [1.341243 ],\n",
              "       [1.3575207],\n",
              "       [1.3711463],\n",
              "       [1.3783189],\n",
              "       [1.3792415],\n",
              "       [1.3799968],\n",
              "       [1.3886485],\n",
              "       [1.4046259],\n",
              "       [1.4149575],\n",
              "       [1.4132371],\n",
              "       [1.4005364],\n",
              "       [1.3802493],\n",
              "       [1.35805  ],\n",
              "       [1.3408222],\n",
              "       [1.3368425],\n",
              "       [1.3456546],\n",
              "       [1.3624744],\n",
              "       [1.3829296],\n",
              "       [1.3993143],\n",
              "       [1.4078451],\n",
              "       [1.4075398],\n",
              "       [1.4029238],\n",
              "       [1.3980592],\n",
              "       [1.3982246],\n",
              "       [1.4034472],\n",
              "       [1.4123814],\n",
              "       [1.4241794],\n",
              "       [1.4354999],\n",
              "       [1.4471554],\n",
              "       [1.4614688],\n",
              "       [1.4729639],\n",
              "       [1.4812893],\n",
              "       [1.4883808],\n",
              "       [1.4979852],\n",
              "       [1.4801542],\n",
              "       [1.4361506],\n",
              "       [1.3823305],\n",
              "       [1.3412876],\n",
              "       [1.3214658],\n",
              "       [1.3163079],\n",
              "       [1.3176633],\n",
              "       [1.3203558],\n",
              "       [1.3233937],\n",
              "       [1.318055 ],\n",
              "       [1.303382 ],\n",
              "       [1.2966648],\n",
              "       [1.3048787],\n",
              "       [1.3187796],\n",
              "       [1.3252791],\n",
              "       [1.325569 ],\n",
              "       [1.3230097],\n",
              "       [1.3172206],\n",
              "       [1.3081445],\n",
              "       [1.2984307],\n",
              "       [1.2858572],\n",
              "       [1.2730771],\n",
              "       [1.2591661],\n",
              "       [1.2292205],\n",
              "       [1.1934655],\n",
              "       [1.1595522],\n",
              "       [1.1343788],\n",
              "       [1.1257674],\n",
              "       [1.1353843],\n",
              "       [1.1560477],\n",
              "       [1.1786633],\n",
              "       [1.1998852],\n",
              "       [1.2158613],\n",
              "       [1.2269833],\n",
              "       [1.2362967],\n",
              "       [1.2435561],\n",
              "       [1.250336 ],\n",
              "       [1.2586415],\n",
              "       [1.2654225],\n",
              "       [1.2616817],\n",
              "       [1.2473389],\n",
              "       [1.2272636],\n",
              "       [1.2088709],\n",
              "       [1.2004052],\n",
              "       [1.2052238],\n",
              "       [1.221486 ],\n",
              "       [1.2447836],\n",
              "       [1.2641877],\n",
              "       [1.2773788],\n",
              "       [1.2882497],\n",
              "       [1.2981356],\n",
              "       [1.3062451],\n",
              "       [1.3129128],\n",
              "       [1.3183562],\n",
              "       [1.320147 ],\n",
              "       [1.3184735],\n",
              "       [1.3105373],\n",
              "       [1.3010298],\n",
              "       [1.2952957],\n",
              "       [1.2920144],\n",
              "       [1.2888396],\n",
              "       [1.3163711],\n",
              "       [1.3649987],\n",
              "       [1.4119006],\n",
              "       [1.4414891],\n",
              "       [1.449814 ],\n",
              "       [1.4387707],\n",
              "       [1.4064552],\n",
              "       [1.3700732],\n",
              "       [1.341804 ],\n",
              "       [1.3341314],\n",
              "       [1.3392029],\n",
              "       [1.3457628]], dtype=float32)"
            ]
          },
          "metadata": {},
          "execution_count": 54
        }
      ]
    },
    {
      "cell_type": "code",
      "source": [
        "predicted_price = sc.inverse_transform(Y_pred)"
      ],
      "metadata": {
        "id": "SlHjqMQ4p_XK"
      },
      "execution_count": 56,
      "outputs": []
    },
    {
      "cell_type": "code",
      "source": [
        "plt.plot(Y_test, color = 'red', label = 'Actual Stock Price')\n",
        "plt.plot(predicted_price, color = 'green', label = 'Predicted Stock Price')\n",
        "plt.title('Google stock price prediction')\n",
        "plt.xlabel('Time')\n",
        "plt.ylabel('Stock Price')\n",
        "plt.legend()\n",
        "plt.show()"
      ],
      "metadata": {
        "colab": {
          "base_uri": "https://localhost:8080/",
          "height": 295
        },
        "id": "pHNRUQX6sUzY",
        "outputId": "496528c7-381b-4e27-b5b6-7d9d312521ee"
      },
      "execution_count": 58,
      "outputs": [
        {
          "output_type": "display_data",
          "data": {
            "text/plain": [
              "<Figure size 432x288 with 1 Axes>"
            ],
            "image/png": "[encoded data removed]"
          },
          "metadata": {
            "needs_background": "light"
          }
        }
      ]
    }
  ],
  "metadata": {
    "colab": {
      "provenance": [],
      "mount_file_id": "1W0WkzQlC72xkkmflvRr9Y_TaZkJc_ry6",
      "authorship_tag": "ABX9TyMGHZedckM+PsgdZU1HFQSs",
      "include_colab_link": true
    },
    "kernelspec": {
      "display_name": "Python 3",
      "name": "python3"
    },
    "language_info": {
      "name": "python"
    }
  },
  "nbformat": 4,
  "nbformat_minor": 0
}